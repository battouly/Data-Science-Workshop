{
 "cells": [
  {
   "cell_type": "markdown",
   "metadata": {},
   "source": [
    "<img src=\"function.jpg\"> \n"
   ]
  },
  {
   "cell_type": "markdown",
   "metadata": {},
   "source": [
    "# <center>An Introduction to Functions in Python </center>  \n",
    "\n",
    "in this chapter we will discuss how to define and use functions in Python. \n",
    "You will learn how functions can be used to write modular code that helps eliminate repetition and improve the efficiency of Python code.\n",
    "\n",
    "### Learning Objectives\n",
    "After completing this chapter, you will be able to:\n",
    "\n",
    "Explain how using functions help you to write reuseable code in Python.\n",
    "Write and execute a custom function in Python.\n",
    "Write nested functions (functions inside of other functions) in Python.\n",
    "\n",
    "### What You Need To Follow Along In This Chapter?\n",
    "\n",
    "You should have Python Conda environment. Be sure that you have completed the chapters on Basics python"
   ]
  },
  {
   "cell_type": "markdown",
   "metadata": {},
   "source": [
    "### How to Define Functions in Python\n",
    "\n",
    "To define a function in Python, you need the def keyword, function name, parameters (inputs), and the return statement, which specifies the output of the function.\n",
    "\n",
    "```python\n",
    "def function_name(parameter):\n",
    "    some code here    \n",
    "    return output\n",
    "```\n",
    "def Keyword and Function Name\n",
    "In Python, function definitions begin with the keyword def to indicate the start of a definition for a new function. This keyword is followed by the function name.\n",
    "\n",
    "def function_name():\n",
    "The function name is the name that you use when you want to call the function (e.g. print()).\n",
    "\n",
    "Input Parameter(s)\n",
    "The input parameter is the required information that you pass to the function for it to run successfully. The function will take the value or object provided as the input parameter and use it to perform some task. PS: This is optional\n",
    "\n",
    "In Python, the required parameters are provided within parenthesis (), as shown below.\n",
    "\n",
    "def function_name(parameter):       \n",
    "You can define an input parameter for a function using a placeholder variable, such as data, which represents the value or object that will be acted upon in the function.\n",
    "\n",
    "In Python, function definitions need a return statement to specify the output that will be returned by the function.\n",
    "```python\n",
    "def function_name(data):\n",
    "    some code here    \n",
    "    return output\n",
    "```\n",
    "Just like with loops and conditional statements, the code lines executed by the function, including the return statement, are provided on new lines after a colon : and are indented once to indicate that they are part of the function.\n",
    "\n",
    "Now let's write a Function in Python"
   ]
  },
  {
   "cell_type": "code",
   "execution_count": null,
   "metadata": {},
   "outputs": [],
   "source": [
    "#define a function to return 'Hello World!'\n",
    "def hello_world():\n",
    "    return 'Hello World!'\n",
    "\n",
    "print(hello_world())"
   ]
  },
  {
   "cell_type": "markdown",
   "metadata": {},
   "source": [
    "Now let's write another Function in Python using parameters"
   ]
  },
  {
   "cell_type": "code",
   "execution_count": null,
   "metadata": {},
   "outputs": [],
   "source": [
    "#define a function to return 'Hello!'+name of someone\n",
    "def hello_there(fname,lname):\n",
    "    return 'Hello '+fname+lname\n",
    "\n",
    "print(hello_there('John ','Doe'))"
   ]
  },
  {
   "cell_type": "markdown",
   "metadata": {},
   "source": [
    "Now let's write another Function in Python to do addition of any numbers for us."
   ]
  },
  {
   "cell_type": "code",
   "execution_count": null,
   "metadata": {},
   "outputs": [],
   "source": [
    "def adding_two_numbers(first_number,Second_number):\n",
    "    result=first_number+Second_number\n",
    "    return result\n",
    "\n",
    "print(adding_two_numbers(3,6))"
   ]
  },
  {
   "cell_type": "markdown",
   "metadata": {},
   "source": [
    "You can ask input from user too!"
   ]
  },
  {
   "cell_type": "code",
   "execution_count": null,
   "metadata": {},
   "outputs": [],
   "source": [
    "def Add_numbers(first_number,Second_number):\n",
    "    result=first_number+Second_number\n",
    "    return result\n",
    "\n",
    "print(Add_numbers(int(input(\"Enter First Number: \")),int(input(\"Enter Second Number: \"))))"
   ]
  },
  {
   "cell_type": "markdown",
   "metadata": {},
   "source": [
    "Now your turn to ask a user to key in their name and print it with hello."
   ]
  },
  {
   "cell_type": "code",
   "execution_count": null,
   "metadata": {},
   "outputs": [],
   "source": [
    "#Now it is your turn to write your own code\n",
    "#Ask a user to type their name and print it with hello.\n",
    "#Type your code below this line..."
   ]
  },
  {
   "cell_type": "markdown",
   "metadata": {},
   "source": [
    "<details><summary>See The Answer!</summary>\n",
    "<p>\n",
    "\n",
    "#### Oops you couldn't DIY!\n",
    "\n",
    "```python\n",
    "def hello(name):\n",
    "    return 'Hello '+name\n",
    "\n",
    "print(hello(input(\"What is your name? \")))\n",
    "```\n",
    "\n",
    "</p>\n",
    "</details>\n",
    "\n"
   ]
  },
  {
   "cell_type": "code",
   "execution_count": null,
   "metadata": {},
   "outputs": [],
   "source": [
    "#Now it is your turn to write your own code\n",
    "#Write a function to check id a given word is a palindrome.\n",
    "#Type your code below this line..."
   ]
  },
  {
   "cell_type": "markdown",
   "metadata": {},
   "source": [
    "<details><summary>See The Answer!</summary>\n",
    "<p>\n",
    "\n",
    "#### Oops you couldn't DIY!\n",
    "\n",
    "```python\n",
    "def is_Pal(word):\n",
    "    if word == word[::-1]:\n",
    "        return word+' is a palindrome!'\n",
    "    else:\n",
    "        return 'Not a palindrome!'\n",
    "\n",
    "print(is_Pal(input(\"Type a word to check: \")))\n",
    "```\n",
    "\n",
    "</p>\n",
    "</details>\n",
    "\n"
   ]
  },
  {
   "cell_type": "markdown",
   "metadata": {},
   "source": [
    "Now feel free to write any function to do anything play with your own code!"
   ]
  },
  {
   "cell_type": "code",
   "execution_count": null,
   "metadata": {},
   "outputs": [],
   "source": []
  }
 ],
 "metadata": {
  "kernelspec": {
   "display_name": "Python 3",
   "language": "python",
   "name": "python3"
  },
  "language_info": {
   "codemirror_mode": {
    "name": "ipython",
    "version": 3
   },
   "file_extension": ".py",
   "mimetype": "text/x-python",
   "name": "python",
   "nbconvert_exporter": "python",
   "pygments_lexer": "ipython3",
   "version": "3.7.4"
  }
 },
 "nbformat": 4,
 "nbformat_minor": 2
}
