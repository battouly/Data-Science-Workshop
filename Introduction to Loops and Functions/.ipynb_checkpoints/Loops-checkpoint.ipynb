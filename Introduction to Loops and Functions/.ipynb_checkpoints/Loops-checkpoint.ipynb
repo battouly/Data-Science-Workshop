{
 "cells": [
  {
   "cell_type": "markdown",
   "metadata": {},
   "source": [
    "<img src=\"images/Loops.png\"> \n"
   ]
  },
  {
   "cell_type": "markdown",
   "metadata": {},
   "source": [
    "# <center>An Introduction to Loops in Python </center>  \n",
    "\n",
    "in this chapter we will discuss the types of loops in Python, and how to use them to remove repetition in your code by iteratively executing code on a range or list of values. \n",
    "\n",
    "### Learning Objectives\n",
    "\n",
    "After completing this chapter, you will be able to:\n",
    "\n",
    "Explain how using loops help you to write DRY (Don’t Repeat Yourself) code in Python.\n",
    "Describe the syntax for two basic looping structures used in Python: while and for.\n",
    "Remove repetition in code by using loops to automate data tasks.\n",
    "\n",
    "### What You Need To Follow Along In This Chapter?\n",
    "\n",
    "You should have Python Conda environment.\n",
    "\n",
    "Be sure that you have completed the chapters on Jupyter Notebook, Numpy Arrays, and Pandas Dataframes.\n",
    "\n",
    "### Why Use Loops?\n",
    "\n",
    "A loop is a sequence of operations that are performed over and over in some specified order. Loops can help you to eliminate repetition in code by replacing duplicate lines of code with an iteration, meaning that you can iteratively execute the same code line or block until it reaches a specified end point."
   ]
  },
  {
   "cell_type": "markdown",
   "metadata": {},
   "source": [
    "## While Loops \n",
    "\n",
    "A while loop is used to iteratively execute code until a pre-defined condition is no longer satisfied (i.e. results in a value of False).\n",
    "\n",
    "That condition could be a limit on how many times you want the code to run, or that results of the code reach a certain value (e.g. code will iteratively execute as long as the current value of the results is less than 5).\n",
    "\n",
    "After the pre-defined condition is no longer True, the loop will not execute another iteration."
   ]
  },
  {
   "cell_type": "markdown",
   "metadata": {},
   "source": [
    "while x < 5:\n",
    "    #Do something here... \n",
    "    \n",
    "Now take a look at a while loop in action."
   ]
  },
  {
   "cell_type": "code",
   "execution_count": null,
   "metadata": {},
   "outputs": [],
   "source": [
    "x=0\n",
    "while x < 5:\n",
    "    print(x)\n",
    "    x+=1"
   ]
  },
  {
   "cell_type": "markdown",
   "metadata": {},
   "source": [
    "Notice that the loop begins with while followed by a condition that ends with a colon (:).\n",
    "\n",
    "The code below the while statement is indented too. This indentation is important, it indicates that the code will be executed as part of the loop within, not after the loop is completed.\n",
    "\n",
    "Once x reaches 5, the condition is no longer true (as x is no longer less than 5), so the loop ends and does not execute another iteration of the code."
   ]
  },
  {
   "cell_type": "code",
   "execution_count": null,
   "metadata": {},
   "outputs": [],
   "source": [
    "x=0\n",
    "while x < 10:\n",
    "    x+=1\n",
    "    print(x,' This is great!')"
   ]
  },
  {
   "cell_type": "code",
   "execution_count": null,
   "metadata": {},
   "outputs": [],
   "source": [
    "#Now it is your turn to write your own code\n",
    "#Print x while x is greater than zero but less than or equal to 15. Hint: less than sign (<)\n",
    "#less than or equal sign (<=)\n",
    "#Type your code below this line...\n"
   ]
  },
  {
   "cell_type": "markdown",
   "metadata": {},
   "source": [
    "<details><summary>See The Answer!</summary>\n",
    "<p>\n",
    "\n",
    "#### Oops you couldn't DIY!\n",
    "\n",
    "```python\n",
    "x=15\n",
    "while 0 < x <= 15:\n",
    "    print(x)\n",
    "    x-=1\n",
    "```\n",
    "\n",
    "</p>\n",
    "</details>\n",
    "\n"
   ]
  },
  {
   "cell_type": "markdown",
   "metadata": {},
   "source": [
    "In addition to using comparison operators to compare values, you can also specify a range of values to limit the duration of the while loop.\n",
    "\n",
    "The range is inclusive of the starting value, but not of the ending value."
   ]
  },
  {
   "cell_type": "code",
   "execution_count": null,
   "metadata": {},
   "outputs": [],
   "source": [
    "# Add 1 to x, while x is between 1 and 5\n",
    "x = 1\n",
    "while x in range(1,5):\n",
    "    x += 1\n",
    "    print(x)"
   ]
  },
  {
   "cell_type": "markdown",
   "metadata": {},
   "source": [
    "## For Loops\n",
    "\n",
    "Another useful loop is a for loop, which will iteratively execute code for each item in a pre-defined list.\n",
    "\n",
    "This list can be composed of numeric values, filenames, individual characters in a text string, objects such as data structures, etc.\n",
    "\n",
    "The syntax of a for loop includes rule (followed by a colon :) and indentations of the code lines that will be iterated similar to while loop.\n",
    "\n",
    "```python\n",
    "item_list = [item1, item2, item3]\n",
    "\n",
    "for i in item_list:\n",
    "    Do something here\n",
    "```"
   ]
  },
  {
   "cell_type": "markdown",
   "metadata": {},
   "source": [
    "There is also a counter in the loop (e.g. i) that represents the items of the list. The first value of i is the first item in the list; as the loop iterates through the list, the value of i changes to hold the value of the next item in the list.\n",
    "\n",
    "Now take a look at a For loop in action."
   ]
  },
  {
   "cell_type": "code",
   "execution_count": null,
   "metadata": {},
   "outputs": [],
   "source": [
    "item_list = [2, 3, 6]\n",
    "\n",
    "for i in item_list:\n",
    "    i+=10\n",
    "    print (i)"
   ]
  },
  {
   "cell_type": "markdown",
   "metadata": {},
   "source": [
    "For Loops on Text Strings"
   ]
  },
  {
   "cell_type": "code",
   "execution_count": null,
   "metadata": {},
   "outputs": [],
   "source": [
    "#List of fruits\n",
    "fruits = [\"mango\", \"banana\", \"apples\"]\n",
    "\n",
    "# For each item in list, print item\n",
    "for fname in fruits:\n",
    "    print(fname)  "
   ]
  },
  {
   "cell_type": "markdown",
   "metadata": {},
   "source": [
    "For Loops on Range.\n",
    "The range is inclusive of the starting value, but not of the ending value. By default starting value for range is 0."
   ]
  },
  {
   "cell_type": "code",
   "execution_count": null,
   "metadata": {},
   "outputs": [],
   "source": [
    "# For each item in range 10, print item\n",
    "for i in range(10):\n",
    "    print(i) "
   ]
  },
  {
   "cell_type": "markdown",
   "metadata": {},
   "source": [
    "For Loops on Data Structures"
   ]
  },
  {
   "cell_type": "code",
   "execution_count": null,
   "metadata": {},
   "outputs": [],
   "source": [
    "# Create list of abbreviated month names\n",
    "months = [\"Jan\", \"Feb\", \"Mar\", \"Apr\", \"May\", \"June\",\n",
    "         \"July\", \"Aug\", \"Sept\", \"Oct\", \"Nov\", \"Dec\"]\n",
    "\n",
    "# Create list of order of the months\n",
    "order_by_monthly = [1,  2, 3, 4, 5, 6, \n",
    "                      7, 8, 9, 10, 11, 12]\n",
    "\n",
    "# List of list names\n",
    "lists = [months, order_by_monthly]\n",
    "\n",
    "# For each item in list, print value\n",
    "for dlist in lists:\n",
    "    print(dlist)   \n"
   ]
  },
  {
   "cell_type": "code",
   "execution_count": null,
   "metadata": {},
   "outputs": [],
   "source": [
    "#Now it is your turn to write your own code\n",
    "#Print all even numbers between 1 to 50. Hint: to check if a number is even (number%2==0)\n",
    "#Type your code below this line...\n"
   ]
  },
  {
   "cell_type": "markdown",
   "metadata": {},
   "source": [
    "<details><summary>See The Answer!</summary>\n",
    "<p>\n",
    "\n",
    "#### Oops you couldn't DIY!\n",
    "\n",
    "```python\n",
    "for i in range (1,50):\n",
    "    if i%2==0:\n",
    "        print (i)\n",
    "    else:\n",
    "        pass\n",
    "```\n",
    "\n",
    "</p>\n",
    "</details>\n",
    "\n"
   ]
  },
  {
   "cell_type": "markdown",
   "metadata": {},
   "source": [
    "In the next chapter, you will continue to apply loops to data structures, including lists,numpy arrays and pandas dataframes and learn how to automate data tasks using loops."
   ]
  },
  {
   "cell_type": "code",
   "execution_count": null,
   "metadata": {},
   "outputs": [],
   "source": []
  }
 ],
 "metadata": {
  "kernelspec": {
   "display_name": "Python 3",
   "language": "python",
   "name": "python3"
  },
  "language_info": {
   "codemirror_mode": {
    "name": "ipython",
    "version": 3
   },
   "file_extension": ".py",
   "mimetype": "text/x-python",
   "name": "python",
   "nbconvert_exporter": "python",
   "pygments_lexer": "ipython3",
   "version": "3.7.4"
  }
 },
 "nbformat": 4,
 "nbformat_minor": 2
}
